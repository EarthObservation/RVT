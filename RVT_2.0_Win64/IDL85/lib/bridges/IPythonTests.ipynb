{
 "cells": [
  {
   "cell_type": "markdown",
   "metadata": {},
   "source": [
    "####Instructions\n",
    "This IPython Notebook tests all of the common use cases for the IDL IPython Notebook. When the notebook loads, choose Cell->Run All. Scroll down through all of the tests and verify that the output matches the comments in each cell."
   ]
  },
  {
   "cell_type": "markdown",
   "metadata": {},
   "source": [
    "#IDL Interpreter"
   ]
  },
  {
   "cell_type": "code",
   "execution_count": null,
   "metadata": {
    "collapsed": false
   },
   "outputs": [],
   "source": [
    "; This should print out the numbers 0...9\n",
    "foreach x,[0:9] do print,x*10"
   ]
  },
  {
   "cell_type": "code",
   "execution_count": null,
   "metadata": {
    "collapsed": false
   },
   "outputs": [],
   "source": [
    "; Implied print\n",
    "2+2"
   ]
  },
  {
   "cell_type": "markdown",
   "metadata": {},
   "source": [
    "# Markdown\n",
    "This expression $\\sqrt{3x-1}+(1+x)^2$ is an example of a TeX inline equation in a **[Markdown-formatted](http://daringfireball.net/projects/markdown/)** sentence.\n",
    "\n",
    "**Maxwell's Equations**\n",
    "\\begin{align}\n",
    "\\nabla \\times \\vec{\\mathbf{B}} -\\, \\frac1c\\, \\frac{\\partial\\vec{\\mathbf{E}}}{\\partial t} & = \\frac{4\\pi}{c}\\vec{\\mathbf{j}} \\\\   \\nabla \\cdot \\vec{\\mathbf{E}} & = 4 \\pi \\rho \\\\\n",
    "\\nabla \\times \\vec{\\mathbf{E}}\\, +\\, \\frac1c\\, \\frac{\\partial\\vec{\\mathbf{B}}}{\\partial t} & = \\vec{\\mathbf{0}} \\\\\n",
    "\\nabla \\cdot \\vec{\\mathbf{B}} & = 0 \n",
    "\\end{align}"
   ]
  },
  {
   "cell_type": "markdown",
   "metadata": {},
   "source": [
    "#Raw HTML"
   ]
  },
  {
   "cell_type": "code",
   "execution_count": null,
   "metadata": {
    "collapsed": false
   },
   "outputs": [],
   "source": [
    "; Any IDL output that starts with <HTML> should be sent to the notebook as raw HTML.\n",
    "; This test should display words in bold and italic, and also have a hyperlink.\n",
    "s1 = '<html>Here is some <B>BOLD</B> and <i>italic</i> HTML.<br>'\n",
    "s2 = 'Go to the <a href=\"http://www.exelisvis.com/docs/using_idl_home.html\" target=\"_blank\">IDL Documentation Center</a>.'\n",
    "print, s1 + s2"
   ]
  },
  {
   "cell_type": "code",
   "execution_count": 12,
   "metadata": {
    "collapsed": false
   },
   "outputs": [
    {
     "data": {
      "text/html": [
       "<html><img src=\"data:image/png;base64,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\"/></html>\n"
      ]
     },
     "metadata": {},
     "output_type": "display_data"
    }
   ],
   "source": [
    "; This test should display a multicolor blocky image.\n",
    "lam = Lambda(n,m:Reform(Congrid(255*Randomu(seed,n,n),n*m,n*m),1,n*m,n*m))\n",
    "WRITE_PNG, '', [lam(15,10),lam(15,10),lam(15,10)], BUFFER=b\n",
    "img = IDL_BASE64(b)\n",
    "print,'<html><img src=\"data:image/png;base64,'+img+'\"/></html>'"
   ]
  },
  {
   "cell_type": "code",
   "execution_count": null,
   "metadata": {
    "collapsed": false
   },
   "outputs": [],
   "source": [
    "; This test should display a PDF file embedded in the browser.\n",
    "'<html><iframe src=\"http://paos.colorado.edu/research/wavelets/bams_79_01_0061.pdf\" width=\"200\" height=\"240\" frameborder=\"0\" marginwidth=\"0\" marginheight=\"0\" allowfullscreen=\"true\"></iframe"
   ]
  },
  {
   "cell_type": "markdown",
   "metadata": {},
   "source": [
    "#Direct Graphics"
   ]
  },
  {
   "cell_type": "code",
   "execution_count": null,
   "metadata": {
    "collapsed": false
   },
   "outputs": [],
   "source": [
    "; this should generate a graphic with the rose image in the lower left\n",
    "file = FILEPATH('rose.jpg', SUBDIRECTORY = ['examples', 'data'])\n",
    "READ_JPEG, file, img\n",
    "WINDOW, 0, XSIZE=350, YSIZE=300\n",
    "TV, img, /TRUE"
   ]
  },
  {
   "cell_type": "code",
   "execution_count": null,
   "metadata": {
    "collapsed": false
   },
   "outputs": [],
   "source": [
    "; this should generate a graphic with 2 rose images offset from each other\n",
    "TV, img, 100, 100, /TRUE"
   ]
  },
  {
   "cell_type": "code",
   "execution_count": null,
   "metadata": {
    "collapsed": false
   },
   "outputs": [],
   "source": [
    "; this should generate 2 plot windows labelled Plot 1 and Plot 2\n",
    "window,0,xsize=400,ysize=300 & plot,[0,1],title='Plot 1'\n",
    "window,1,xsize=400,ysize=300 & plot,[0,2],title='Plot 2'"
   ]
  },
  {
   "cell_type": "code",
   "execution_count": null,
   "metadata": {
    "collapsed": false
   },
   "outputs": [],
   "source": [
    "; This should overplot Plot 2 with a bunch of numbers\n",
    "for i=0,10 do xyouts,i/10.,i/5.,i.tostring()"
   ]
  },
  {
   "cell_type": "code",
   "execution_count": null,
   "metadata": {
    "collapsed": false
   },
   "outputs": [],
   "source": [
    "; This should generate a surface plot with the rose image on top\n",
    "surface, dist(100)\n",
    "tv, img, /true"
   ]
  },
  {
   "cell_type": "code",
   "execution_count": null,
   "metadata": {
    "collapsed": false
   },
   "outputs": [],
   "source": [
    "; This should switch back to Plot 1 and overplot the rose image\n",
    "wset, 0\n",
    "tv, img, /true"
   ]
  },
  {
   "cell_type": "markdown",
   "metadata": {},
   "source": [
    "#Function Graphics"
   ]
  },
  {
   "cell_type": "code",
   "execution_count": null,
   "metadata": {
    "collapsed": false
   },
   "outputs": [],
   "source": [
    "; This should generate 2 graphics plots labelled Plot 1 and Plot 2\n",
    "p1 = plot(/test,'r', title='Plot 1', dim=[400,300])\n",
    "p2 = plot(/test,'g', title='Plot 2', dim=[400,300])"
   ]
  },
  {
   "cell_type": "code",
   "execution_count": null,
   "metadata": {
    "collapsed": false
   },
   "outputs": [],
   "source": [
    "; This should redraw Plot 1 & 2 with thick lines\n",
    "p1.thick = 5\n",
    "p2.thick = 5"
   ]
  },
  {
   "cell_type": "code",
   "execution_count": null,
   "metadata": {
    "collapsed": false
   },
   "outputs": [],
   "source": [
    "; This should draw a surface in a floating function graphics window\n",
    "; and an image embedded in the browser\n",
    "; You should not see the plot at all.\n",
    "!magic.embed = 0\n",
    "s = surface(dist(100))\n",
    "p = plot(/test,/buffer)\n",
    "!magic.embed = 1\n",
    "i = image(/test)"
   ]
  },
  {
   "cell_type": "markdown",
   "metadata": {
    "collapsed": true
   },
   "source": [
    "#Object Graphics"
   ]
  },
  {
   "cell_type": "code",
   "execution_count": null,
   "metadata": {
    "collapsed": false
   },
   "outputs": [],
   "source": [
    "; This should draw a temperature map of the world, in yellow/orange colors\n",
    "; This test uses 24-bit RGB colors\n",
    "worldtmpFile = FILEPATH('worldtmp.png', SUBDIRECTORY = ['examples', 'demo', 'demodata'])\n",
    "worldtmpImage = READ_PNG(worldtmpFile)\n",
    "dim = SIZE(worldtmpImage, /DIMENSIONS)\n",
    "oWin = OBJ_NEW('IDLgrBuffer', DIMENSIONS = [dim[0], dim[1]])\n",
    "oView = OBJ_NEW('IDLgrView', VIEWPLANE_RECT = [0, 0, dim[0], dim[1]])\n",
    "oModel = OBJ_NEW('IDLgrModel')\n",
    "oPalette = OBJ_NEW('IDLgrPalette')\n",
    "oPalette -> LoadCT, 38\n",
    "oImage = OBJ_NEW('IDLgrImage', worldtmpImage, PALETTE = oPalette)\n",
    "oModel -> Add, oImage\n",
    "oView -> Add, oModel\n",
    "oWin -> Draw, oView"
   ]
  },
  {
   "cell_type": "code",
   "execution_count": null,
   "metadata": {
    "collapsed": false
   },
   "outputs": [],
   "source": [
    "; This should draw a temperature map of the world, in yellow/orange colors\n",
    "; This test uses indexed 8-bit colors\n",
    "worldtmpFile = FILEPATH('worldtmp.png', SUBDIRECTORY = ['examples', 'demo', 'demodata'])\n",
    "worldtmpImage = READ_PNG(worldtmpFile)\n",
    "dim = SIZE(worldtmpImage, /DIMENSIONS)\n",
    "oPalette = OBJ_NEW('IDLgrPalette')\n",
    "oPalette -> LoadCT, 38\n",
    "oWin = OBJ_NEW('IDLgrBuffer', DIMENSIONS = [dim[0], dim[1]], COLOR_MODEL=1, PALETTE = oPalette)\n",
    "oView = OBJ_NEW('IDLgrView', VIEWPLANE_RECT = [0, 0, dim[0], dim[1]])\n",
    "oModel = OBJ_NEW('IDLgrModel')\n",
    "oImage = OBJ_NEW('IDLgrImage', worldtmpImage)\n",
    "oModel -> Add, oImage\n",
    "oView -> Add, oModel\n",
    "oWin -> Draw, oView"
   ]
  }
 ],
 "metadata": {
  "kernelspec": {
   "display_name": "IDL",
   "language": "IDL",
   "name": "idl"
  },
  "language_info": {
   "codemirror_mode": "idl",
   "file_extension": ".pro",
   "mimetype": "text/x-idl",
   "name": "idl"
  }
 },
 "nbformat": 4,
 "nbformat_minor": 0
}
